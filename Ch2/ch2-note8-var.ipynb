{
 "metadata": {
  "language_info": {
   "codemirror_mode": {
    "name": "ipython",
    "version": 3
   },
   "file_extension": ".py",
   "mimetype": "text/x-python",
   "name": "python",
   "nbconvert_exporter": "python",
   "pygments_lexer": "ipython3",
   "version": "3.9.2"
  },
  "orig_nbformat": 2,
  "kernelspec": {
   "name": "python392jvsc74a57bd07a695d8e24dc7cc701bc8852c5ba6314ed8789bc16da2b093cce5b569a3e12da",
   "display_name": "Python 3.9.2 64-bit"
  },
  "metadata": {
   "interpreter": {
    "hash": "7a695d8e24dc7cc701bc8852c5ba6314ed8789bc16da2b093cce5b569a3e12da"
   }
  }
 },
 "nbformat": 4,
 "nbformat_minor": 2,
 "cells": [
  {
   "source": [
    "## ch2-not8-var.ipynb by PA13"
   ],
   "cell_type": "markdown",
   "metadata": {}
  },
  {
   "source": [
    "## (\"변수: 변수란?\")\n",
    "- 변수는 자료(값)을 저장하는 공간이다."
   ],
   "cell_type": "markdown",
   "metadata": {}
  },
  {
   "cell_type": "code",
   "execution_count": 7,
   "metadata": {},
   "outputs": [
    {
     "output_type": "stream",
     "name": "stdout",
     "text": [
      "1773125701248\n1773125693248\n1773125693248 1773125693248\nTrue\n[1, 4, 3] [1, 4, 3]\nTrue\n1773127608384\nFalse\n"
     ]
    }
   ],
   "source": [
    "a = [1, 2, 3]\n",
    "id(a)\n",
    "print(id(a))  # a 변수가 가리키는 메모리의 주소\n",
    "# list\n",
    "a = [1, 2, 3]\n",
    "id(a)\n",
    "print(id(a))\n",
    "b = a\n",
    "id(a), id(b)\n",
    "print(id(a), id(b))\n",
    "a is b\n",
    "print(a is b)\n",
    "a[1] = 4\n",
    "a, b\n",
    "print(a, b)\n",
    "a is b\n",
    "print(a is b)\n",
    "b = [1, 2, 3]\n",
    "id(b)\n",
    "print(id(b))\n",
    "a is b\n",
    "print(a is b)"
   ]
  },
  {
   "source": [
    "- b 변수를 생성할 때 a 변수의 값을 가져오면서\n",
    "- a와는 다른 주소를 가리키도록 만들수는 없을까?\n",
    "- 다음 2가지 방법이 있다."
   ],
   "cell_type": "markdown",
   "metadata": {}
  },
  {
   "cell_type": "code",
   "execution_count": 15,
   "metadata": {},
   "outputs": [
    {
     "output_type": "stream",
     "name": "stdout",
     "text": [
      "[1, 4, 3] [1, 2, 3]\n"
     ]
    },
    {
     "output_type": "error",
     "ename": "NameError",
     "evalue": "name 'copy' is not defined",
     "traceback": [
      "\u001b[1;31m---------------------------------------------------------------------------\u001b[0m",
      "\u001b[1;31mNameError\u001b[0m                                 Traceback (most recent call last)",
      "\u001b[1;32m<ipython-input-15-eaf827ea57bc>\u001b[0m in \u001b[0;36m<module>\u001b[1;34m\u001b[0m\n\u001b[0;32m     12\u001b[0m \u001b[0ma\u001b[0m \u001b[1;33m=\u001b[0m \u001b[1;33m[\u001b[0m\u001b[1;36m1\u001b[0m\u001b[1;33m,\u001b[0m \u001b[1;36m2\u001b[0m\u001b[1;33m,\u001b[0m \u001b[1;36m3\u001b[0m\u001b[1;33m]\u001b[0m\u001b[1;33m\u001b[0m\u001b[1;33m\u001b[0m\u001b[0m\n\u001b[0;32m     13\u001b[0m \u001b[1;31m#from copy import copy\u001b[0m\u001b[1;33m\u001b[0m\u001b[1;33m\u001b[0m\u001b[1;33m\u001b[0m\u001b[0m\n\u001b[1;32m---> 14\u001b[1;33m \u001b[0mb\u001b[0m \u001b[1;33m=\u001b[0m \u001b[0mcopy\u001b[0m\u001b[1;33m(\u001b[0m\u001b[0ma\u001b[0m\u001b[1;33m)\u001b[0m\u001b[1;33m\u001b[0m\u001b[1;33m\u001b[0m\u001b[0m\n\u001b[0m\u001b[0;32m     15\u001b[0m \u001b[1;33m\u001b[0m\u001b[0m\n\u001b[0;32m     16\u001b[0m \u001b[0mb\u001b[0m \u001b[1;32mis\u001b[0m \u001b[0ma\u001b[0m\u001b[1;33m,\u001b[0m \u001b[0ma\u001b[0m \u001b[1;32mis\u001b[0m \u001b[0mb\u001b[0m\u001b[1;33m\u001b[0m\u001b[1;33m\u001b[0m\u001b[0m\n",
      "\u001b[1;31mNameError\u001b[0m: name 'copy' is not defined"
     ]
    }
   ],
   "source": [
    "# 1. [:] 이용\n",
    "#\n",
    "a = [1, 2, 3]\n",
    "b = a[:]\n",
    "a[1] = 4\n",
    "\n",
    "a, b\n",
    "print(a, b)\n",
    "#\n",
    "# 2. copy 모듈 이용\n",
    "#\n",
    "a = [1, 2, 3]\n",
    "#from copy import copy\n",
    "b = copy(a)\n",
    "\n",
    "b is a, a is b\n",
    "print(b is a, a is b)"
   ]
  },
  {
   "cell_type": "code",
   "execution_count": 19,
   "metadata": {},
   "outputs": [
    {
     "output_type": "stream",
     "name": "stdout",
     "text": [
      "python life\npython\nlife\n3\n5\n5\n3\n"
     ]
    }
   ],
   "source": [
    "# 변수를 만드는 여러 가지 방법\n",
    "#\n",
    "a, b = (\"python\", \"life\")\n",
    "a\n",
    "b\n",
    "a, b\n",
    "print(a, b)\n",
    "\n",
    "[a, b] = [\"python\", \"life\"]\n",
    "a\n",
    "print(a)\n",
    "b\n",
    "print(b)\n",
    "\n",
    "a = 3\n",
    "print(a)\n",
    "b = 5\n",
    "print(b)\n",
    "a, b = b, a   #swapping\n",
    "a\n",
    "print(a)\n",
    "b\n",
    "print(b)\n"
   ]
  },
  {
   "cell_type": "code",
   "execution_count": null,
   "metadata": {},
   "outputs": [],
   "source": []
  }
 ]
}