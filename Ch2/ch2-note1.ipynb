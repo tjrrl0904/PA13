{
 "metadata": {
  "language_info": {
   "codemirror_mode": {
    "name": "ipython",
    "version": 3
   },
   "file_extension": ".py",
   "mimetype": "text/x-python",
   "name": "python",
   "nbconvert_exporter": "python",
   "pygments_lexer": "ipython3",
   "version": "3.9.2-final"
  },
  "orig_nbformat": 2,
  "kernelspec": {
   "name": "python3",
   "display_name": "Python 3.9.2 64-bit",
   "metadata": {
    "interpreter": {
     "hash": "7a695d8e24dc7cc701bc8852c5ba6314ed8789bc16da2b093cce5b569a3e12da"
    }
   }
  }
 },
 "nbformat": 4,
 "nbformat_minor": 2,
 "cells": [
  {
   "source": [
    "# 숫자형 : 정수"
   ],
   "cell_type": "markdown",
   "metadata": {}
  },
  {
   "cell_type": "code",
   "execution_count": 3,
   "metadata": {},
   "outputs": [
    {
     "output_type": "stream",
     "name": "stdout",
     "text": [
      "123\n-178\n0\n"
     ]
    }
   ],
   "source": [
    "a = 123\n",
    "print(a)\n",
    "a = -178\n",
    "print(a)\n",
    "a = 0\n",
    "print(a)"
   ]
  },
  {
   "source": [
    "## 숫자형 : 실수"
   ],
   "cell_type": "markdown",
   "metadata": {}
  },
  {
   "cell_type": "code",
   "execution_count": 5,
   "metadata": {},
   "outputs": [
    {
     "output_type": "stream",
     "name": "stdout",
     "text": [
      "1.2\n-3.48\n42400000000.0\n4.24e-10\n"
     ]
    }
   ],
   "source": [
    "a = 1.2\n",
    "print(a)\n",
    "a = -3.48\n",
    "print(a)\n",
    "a = 4.24e10\n",
    "print(a)\n",
    "a = 4.24e-10\n",
    "print(a)"
   ]
  },
  {
   "source": [
    "# 숫자형 : 8진수와 16진수"
   ],
   "cell_type": "markdown",
   "metadata": {}
  },
  {
   "cell_type": "code",
   "execution_count": 16,
   "metadata": {},
   "outputs": [
    {
     "output_type": "stream",
     "name": "stdout",
     "text": [
      "127\n2303\n2748\n"
     ]
    }
   ],
   "source": [
    "a = 0o177\n",
    "print(a)\n",
    "a = 0x8FF\n",
    "print(a)\n",
    "a = 0xABC\n",
    "print(a)"
   ]
  },
  {
   "source": [
    "# 숫자형 : 연산자와 연산"
   ],
   "cell_type": "markdown",
   "metadata": {}
  },
  {
   "cell_type": "code",
   "execution_count": 18,
   "metadata": {},
   "outputs": [
    {
     "output_type": "stream",
     "name": "stdout",
     "text": [
      "3\n4\n7\n12\n0.75\n81\n3\n0\n"
     ]
    }
   ],
   "source": [
    "a = 3\n",
    "print(a)\n",
    "b = 4\n",
    "print(b)\n",
    "a + b\n",
    "print(a + b)\n",
    "a * b\n",
    "print(a * b)\n",
    "a / b\n",
    "print(a / b)\n",
    "a ** b\n",
    "print(a ** b)\n",
    "a % b\n",
    "print(a % b)\n",
    "a // b\n",
    "print(a // b)"
   ]
  },
  {
   "cell_type": "code",
   "execution_count": null,
   "metadata": {},
   "outputs": [],
   "source": []
  }
 ]
}