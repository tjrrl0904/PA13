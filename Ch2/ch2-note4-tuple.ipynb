{
 "metadata": {
  "language_info": {
   "codemirror_mode": {
    "name": "ipython",
    "version": 3
   },
   "file_extension": ".py",
   "mimetype": "text/x-python",
   "name": "python",
   "nbconvert_exporter": "python",
   "pygments_lexer": "ipython3",
   "version": "3.9.2"
  },
  "orig_nbformat": 2,
  "kernelspec": {
   "name": "python3",
   "display_name": "Python 3.9.2 64-bit",
   "metadata": {
    "interpreter": {
     "hash": "7a695d8e24dc7cc701bc8852c5ba6314ed8789bc16da2b093cce5b569a3e12da"
    }
   }
  }
 },
 "nbformat": 4,
 "nbformat_minor": 2,
 "cells": [
  {
   "source": [
    "## ch2-note4-tuple.ipynb by PA13"
   ],
   "cell_type": "markdown",
   "metadata": {}
  },
  {
   "source": [
    "## print(\"튜플: tuple 이란?\")\n",
    "- 리스트는 [ ]으로 둘러싸지만 튜플은 ( )으로 둘러싼다.\n",
    "- 리스트는 그 값의 생성, 삭제, 수정이 가능하지만 튜플은 그 값을 바꿀 수 없다.\n",
    "- immutability of tuple (불가변성 데이터 구조)"
   ],
   "cell_type": "markdown",
   "metadata": {}
  },
  {
   "cell_type": "code",
   "execution_count": 1,
   "metadata": {},
   "outputs": [
    {
     "output_type": "stream",
     "name": "stdout",
     "text": [
      "(2, 4, 6, 8)\n()\n(1,)\n(1, 2, 3)\n(1, 2, 3)\n('a', 'b', ('ab', 'cd'))\n"
     ]
    }
   ],
   "source": [
    "even = (2, 4, 6, 8)\n",
    "print(even)\n",
    "# 여러 가지 튜플\n",
    "t1 = ()\n",
    "print(t1)  # 튜플 초기화\n",
    "t2 = (1,)\n",
    "print(t2)\n",
    "t3 = (1, 2, 3)\n",
    "print(t3)\n",
    "t4 = 1, 2, 3\n",
    "print(t4)\n",
    "t5 = (\"a\", \"b\", (\"ab\", \"cd\"))\n",
    "print(t5)"
   ]
  },
  {
   "source": [
    "- t2 = (1,)처럼 단지 1개의 요소만을 가질 때는 요소 뒤에\n",
    "- 콤마(,)를 반드시 붙여야 한다는 것과\n",
    "- t4 = 1, 2, 3처럼 괄호( )를 생략해도 무방하다.\n",
    "#####################################################\n",
    "#\n",
    "- 튜플의 요소값을 지우거나 변경하려고 하면 어떻게 될까?"
   ],
   "cell_type": "markdown",
   "metadata": {}
  },
  {
   "cell_type": "code",
   "execution_count": 5,
   "metadata": {},
   "outputs": [
    {
     "output_type": "error",
     "ename": "TypeError",
     "evalue": "'tuple' object doesn't support item deletion",
     "traceback": [
      "\u001b[1;31m---------------------------------------------------------------------------\u001b[0m",
      "\u001b[1;31mTypeError\u001b[0m                                 Traceback (most recent call last)",
      "\u001b[1;32m<ipython-input-5-137a17d84d2b>\u001b[0m in \u001b[0;36m<module>\u001b[1;34m\u001b[0m\n\u001b[0;32m      1\u001b[0m \u001b[1;31m# 1. 튜플 요솟값을 삭제하려 할 때\u001b[0m\u001b[1;33m\u001b[0m\u001b[1;33m\u001b[0m\u001b[1;33m\u001b[0m\u001b[0m\n\u001b[0;32m      2\u001b[0m \u001b[0mt1\u001b[0m \u001b[1;33m=\u001b[0m \u001b[1;33m(\u001b[0m\u001b[1;36m1\u001b[0m\u001b[1;33m,\u001b[0m \u001b[1;36m2\u001b[0m\u001b[1;33m,\u001b[0m \u001b[1;34m\"a\"\u001b[0m\u001b[1;33m,\u001b[0m \u001b[1;34m\"b\"\u001b[0m\u001b[1;33m)\u001b[0m\u001b[1;33m\u001b[0m\u001b[1;33m\u001b[0m\u001b[0m\n\u001b[1;32m----> 3\u001b[1;33m \u001b[1;32mdel\u001b[0m \u001b[0mt1\u001b[0m\u001b[1;33m[\u001b[0m\u001b[1;36m0\u001b[0m\u001b[1;33m]\u001b[0m  \u001b[1;31m# Error\u001b[0m\u001b[1;33m\u001b[0m\u001b[1;33m\u001b[0m\u001b[0m\n\u001b[0m\u001b[0;32m      4\u001b[0m \u001b[1;31m#\u001b[0m\u001b[1;33m\u001b[0m\u001b[1;33m\u001b[0m\u001b[1;33m\u001b[0m\u001b[0m\n\u001b[0;32m      5\u001b[0m \u001b[1;31m# 2. 튜플 요솟값을 변경하려 할 때\u001b[0m\u001b[1;33m\u001b[0m\u001b[1;33m\u001b[0m\u001b[1;33m\u001b[0m\u001b[0m\n",
      "\u001b[1;31mTypeError\u001b[0m: 'tuple' object doesn't support item deletion"
     ]
    }
   ],
   "source": [
    "# 1. 튜플 요솟값을 삭제하려 할 때\n",
    "t1 = (1, 2, \"a\", \"b\")\n",
    "del t1[0]  # Error\n",
    "#\n",
    "# 2. 튜플 요솟값을 변경하려 할 때\n",
    "#\n",
    "t1[0] = \"c\"  # TypeError"
   ]
  },
  {
   "source": [
    "## (\"튜플: 사용방법\")"
   ],
   "cell_type": "markdown",
   "metadata": {}
  },
  {
   "cell_type": "code",
   "execution_count": 6,
   "metadata": {},
   "outputs": [
    {
     "output_type": "stream",
     "name": "stdout",
     "text": [
      "(1, 2, 'a', 'b')\n1\nb\n"
     ]
    }
   ],
   "source": [
    "# 인덱싱하기\n",
    "#\n",
    "t1 = (1, 2, \"a\", \"b\")\n",
    "print(t1)\n",
    "t1[0]\n",
    "print(t1[0])\n",
    "t1[3]\n",
    "print(t1[3])"
   ]
  },
  {
   "cell_type": "code",
   "execution_count": 7,
   "metadata": {},
   "outputs": [
    {
     "output_type": "stream",
     "name": "stdout",
     "text": [
      "(1, 2, 'a', 'b')\n(2, 'a', 'b')\n('a',)\n('a', 'b')\n"
     ]
    }
   ],
   "source": [
    "# 슬라이싱하기\n",
    "#\n",
    "t1 = (1, 2, \"a\", \"b\")\n",
    "print(t1)\n",
    "t1[1:]\n",
    "print(t1[1:])\n",
    "t1[2:-1]\n",
    "print(t1[2:-1])  # ('a',)\n",
    "t1[2:]\n",
    "print(t1[2:])"
   ]
  },
  {
   "cell_type": "code",
   "execution_count": 8,
   "metadata": {},
   "outputs": [
    {
     "output_type": "stream",
     "name": "stdout",
     "text": [
      "(1, 2, 'a', 'b')\n(3, 4)\n(1, 2, 'a', 'b', 3, 4)\n"
     ]
    }
   ],
   "source": [
    "# 튜플 더하기\n",
    "#\n",
    "t1 = (1, 2, \"a\", \"b\")\n",
    "print(t1)\n",
    "t2 = (3, 4)\n",
    "print(t2)\n",
    "t1 + t2\n",
    "print(t1 + t2)"
   ]
  },
  {
   "cell_type": "code",
   "execution_count": 23,
   "metadata": {},
   "outputs": [
    {
     "output_type": "stream",
     "name": "stdout",
     "text": [
      "2497348244224\n(3, 4, 3, 4, 3, 4)\n(3, 4, 3, 4, 3, 4)\n2497353606432\n"
     ]
    }
   ],
   "source": [
    "# 튜플 곱하기\n",
    "#\n",
    "t2 = (3, 4)\n",
    "id(t2)\n",
    "print(id(t2))\n",
    "t2 * 3\n",
    "print(t2 * 3)\n",
    "id(t2)\n",
    "t2 = t2 * 3\n",
    "print(t2)\n",
    "id(t2)\n",
    "print(id(t2))"
   ]
  },
  {
   "cell_type": "code",
   "execution_count": 18,
   "metadata": {},
   "outputs": [
    {
     "output_type": "execute_result",
     "data": {
      "text/plain": [
       "4"
      ]
     },
     "metadata": {},
     "execution_count": 18
    }
   ],
   "source": [
    "# 튜플 길이 구하기\n",
    "#\n",
    "t1 = (1, 2, \"a\", \"b\")\n",
    "len(t1)"
   ]
  },
  {
   "cell_type": "code",
   "execution_count": null,
   "metadata": {},
   "outputs": [],
   "source": []
  }
 ]
}