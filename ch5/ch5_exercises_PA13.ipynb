{
  "nbformat": 4,
  "nbformat_minor": 0,
  "metadata": {
    "colab": {
      "name": "ch5_exercises_PA13.ipynb",
      "provenance": [],
      "collapsed_sections": [],
      "include_colab_link": true
    },
    "kernelspec": {
      "name": "python3",
      "display_name": "Python 3"
    }
  },
  "cells": [
    {
      "cell_type": "markdown",
      "metadata": {
        "id": "view-in-github",
        "colab_type": "text"
      },
      "source": [
        "<a href=\"https://colab.research.google.com/github/tjrrl0904/PA13/blob/main/ch5/ch5_exercises_PA13.ipynb\" target=\"_parent\"><img src=\"https://colab.research.google.com/assets/colab-badge.svg\" alt=\"Open In Colab\"/></a>"
      ]
    },
    {
      "cell_type": "markdown",
      "metadata": {
        "id": "ovY5jkD5dpxE"
      },
      "source": [
        "## ch5_exercises_PA13.ipynb"
      ]
    },
    {
      "cell_type": "markdown",
      "metadata": {
        "id": "SZw6UnxQWYBe"
      },
      "source": [
        "## Q1.\n",
        "> 다음은 Calculator 클래스이다.\n",
        "\n",
        "```\n",
        "class Calculator:\n",
        "    def __init__(self):\n",
        "        self.value = 0\n",
        "\n",
        "    def add(self, val):\n",
        "        self.value += val\n",
        "```\n",
        "---\n",
        "> 위 클래스를 상속하는 UpgradeCalculator를 만들고 값을 뺄 수 있는 minus 메서드를 추가해 보자. \n",
        ">> 즉 다음과 같이 동작하는 클래스를 만들어야 한다.\n",
        "```\n",
        "cal = UpgradeCalculator()\n",
        "cal.add(10)\n",
        "cal.minus(7)\n",
        "print(cal.value) # 10에서 7을 뺀 3을 출력\n",
        "```\n"
      ]
    },
    {
      "cell_type": "code",
      "metadata": {
        "id": "rUNNaqJPdg7B",
        "colab": {
          "base_uri": "https://localhost:8080/"
        },
        "outputId": "4c575cf1-68de-415e-aa34-3df95165b90f"
      },
      "source": [
        "# [Q1] Code  \n",
        "class Calculator:       # 클래스 초기화\n",
        "  def __init__(self):   # self값을 0으로 초기화\n",
        "    self.value = 0\n",
        "  def add(self, val):\n",
        "    self.value += val   # self.value에 받는 값을 누적해서 더함\n",
        "\n",
        "class UpgradeCalculator(Calculator):    # Calculator 클래스를 상속하는 클래스UpgradeCalculator\n",
        "  def minus(self, val):\n",
        "    self.value -= val   # self.value에 받는 값을 누적하여 뺌\n",
        "  \n",
        "cal = UpgradeCalculator() #cal에 UpgradeCalculator 호출 \n",
        "cal.add(10)   # add함수에 값을 10을 넣고 실행\n",
        "cal.minus(7)  # minus함수에 값을 7을 넣고 실행\n",
        "print(cal.value)  # 10에서 7을 뺀 3 출력\n"
      ],
      "execution_count": null,
      "outputs": [
        {
          "output_type": "stream",
          "text": [
            "3\n"
          ],
          "name": "stdout"
        }
      ]
    },
    {
      "cell_type": "markdown",
      "metadata": {
        "id": "re2-XrUYXF1m"
      },
      "source": [
        "## Q2.\n",
        "> 객체변수 value가 100 이상의 값은 가질 수 없도록 제한하는 MaxLimitCalculator 클래스를 만들어 보자. \n",
        ">> 즉 다음과 같이 동작해야 한다.\n",
        "```\n",
        "cal = MaxLimitCalculator()\n",
        "cal.add(50) # 50 더하기\n",
        "cal.add(60) # 60 더하기\n",
        "print(cal.value) # 100 출력\n",
        "```\n",
        ">> 단 반드시 다음과 같은 Calculator 클래스를 상속해서 만들어야 한다.\n",
        "```\n",
        "class Calculator:\n",
        "    def __init__(self):\n",
        "        self.value = 0\n",
        "    def add(self, val):\n",
        "        self.value += val\n",
        "```"
      ]
    },
    {
      "cell_type": "code",
      "metadata": {
        "id": "5MBLUZ5WXF1q",
        "colab": {
          "base_uri": "https://localhost:8080/"
        },
        "outputId": "b30f83c5-f936-416d-e716-2c8804105e20"
      },
      "source": [
        "# [Q2] Code\n",
        "class Calculator:\n",
        "    def __init__(self):        # 클래스 초기화\n",
        "        self.value = 0         # self의 값을 0으로 초기화\n",
        "    def add(self, val):\n",
        "        self.value += val      # self.value에 받는 값을 누적하여 더함\n",
        "\n",
        "class MaxLimitCalculator(Calculator):  # Calculator 클래스를 상속하는 클래스 MaxLimitCalculator\n",
        "    def add(self, val):       # 메서드 오버라이딩을 이용해 부모클래스의 동일한 이름의 함수를 재생성\n",
        "        self.value += val     # self.value에 받는 값을 누적하여 더함\n",
        "        if self.value > 100:  # 만일 self.value내의 값이 100\n",
        "          self.value = 100\n",
        "          print(\"100이상의 값은 가질 수 없습니다.\",)\n",
        "\n",
        "\n",
        "\n",
        "cal = MaxLimitCalculator()   # cal에  UpgradeCalculator 호출\n",
        "cal.add(50) # 50 더하기\n",
        "cal.add(60) # 60 더하기\n",
        "print(cal.value) # 100 출력"
      ],
      "execution_count": null,
      "outputs": [
        {
          "output_type": "stream",
          "text": [
            "100이상의 값은 가질 수 없습니다.\n",
            "100\n"
          ],
          "name": "stdout"
        }
      ]
    },
    {
      "cell_type": "markdown",
      "metadata": {
        "id": "UZy8lu_BXGnT"
      },
      "source": [
        "## Q3.\n",
        "> 다음 결과를 예측해 보자.\n",
        "\n",
        "- 하나.\n",
        "```\n",
        "all([1, 2, abs(-3)-3])\n",
        "```\n",
        "\n",
        "- 둘.\n",
        "```\n",
        "chr(ord('a')) == 'a'\n",
        "```"
      ]
    },
    {
      "cell_type": "code",
      "metadata": {
        "id": "H9T_sXHzXGnW",
        "colab": {
          "base_uri": "https://localhost:8080/"
        },
        "outputId": "a3b83480-081f-434f-e8d9-b95f5bbeaaba"
      },
      "source": [
        "# [Q3] Code - 1\n",
        "# all(x)는 반복 가능한 자료형 x를 입력 인수로 받으며 이 x가 모두 참이면 True, 거짓이 하나라도 있으면 False를 돌려준다.\n",
        "all([1, 2, abs(-3)-3])  # abs(-3)-3 = 3 - 3 = 0\n",
        "# abs(x)는 어떤 숫자를 입력받았을 때, 그 숫자의 절댓값을 돌려주는 함수이다. 그래서 abs(-3)은 3이다. 하지만 3-3은 0이기 때문에 리스트의 모든 요소가 참은 아니기에 False를 돌려준다."
      ],
      "execution_count": null,
      "outputs": [
        {
          "output_type": "execute_result",
          "data": {
            "text/plain": [
              "False"
            ]
          },
          "metadata": {
            "tags": []
          },
          "execution_count": 13
        }
      ]
    },
    {
      "cell_type": "code",
      "metadata": {
        "colab": {
          "base_uri": "https://localhost:8080/"
        },
        "id": "K98Bh-6_Md8g",
        "outputId": "172532fe-d2c4-4b83-ebbd-910bfadc90f3"
      },
      "source": [
        "# [Q3] Code - 2\n",
        "# chr(i)는 아스키(ASCII) 코드 값을 입력받아 그 코드에 해당하는 문자를 출력하는 함수이다. 하지만 ord(c)는 문자의 아스키 코드 값을 돌려주는 함수이다.\n",
        "# 따라서 ord 함수는 chr 함수와 반대이다.\n",
        "ord('a')  # 'a' 의 아스키 코드 값은 97이다.\n",
        "chr(97)   # 따라서 chr(ord('a'))는 chr(97)과 같고 결과값은 'a' 가 나온다.\n",
        "chr(ord('a')) == 'a' # 따라서 식이 성립하기 때문에 True를 돌려준다."
      ],
      "execution_count": null,
      "outputs": [
        {
          "output_type": "execute_result",
          "data": {
            "text/plain": [
              "True"
            ]
          },
          "metadata": {
            "tags": []
          },
          "execution_count": 6
        }
      ]
    },
    {
      "cell_type": "markdown",
      "metadata": {
        "id": "fqypxxqTXHY7"
      },
      "source": [
        "## Q4.\n",
        "> filter와 lambda를 사용하여 리스트 [1, -2, 3, -5, 8, -3]에서 음수를 모두 제거해 보자."
      ]
    },
    {
      "cell_type": "code",
      "metadata": {
        "id": "oQ5UnmayXHY-",
        "colab": {
          "base_uri": "https://localhost:8080/"
        },
        "outputId": "b206c975-e1fe-4b5f-e7a4-9d295422d373"
      },
      "source": [
        "# [Q4] Code\n",
        "# filter 함수에서 조건을 받는 함수를 lambda가 이용 가능하다. 그러므로 lambda를 이용해서 음수를 판별하는 함수를 먼저 만들어보면 lambda x:x>0 가 된다.\n",
        "# 따라서 주어진 리스트에서 음수를 제거하는 식을 만들어보면\n",
        "list(filter(lambda x:x>0, [1, -2, 3, -5, 8, -3])) # 이고 출력하면 [1, 3, 8]이 출력된다."
      ],
      "execution_count": null,
      "outputs": [
        {
          "output_type": "execute_result",
          "data": {
            "text/plain": [
              "[1, 3, 8]"
            ]
          },
          "metadata": {
            "tags": []
          },
          "execution_count": 12
        }
      ]
    },
    {
      "cell_type": "markdown",
      "metadata": {
        "id": "NKsvciXZXIL-"
      },
      "source": [
        "## Q5.\n",
        "> 234라는 10진수의 16진수는 다음과 같이 구할 수 있다.\n",
        "```\n",
        "hex(234)\n",
        "'0xea'\n",
        "```\n",
        "> 이번에는 반대로 16진수 문자열 0xea를 10진수로 변경해 보자.\n",
        ">>※ 내장 함수 int를 활용해 보자.\n"
      ]
    },
    {
      "cell_type": "code",
      "metadata": {
        "id": "5MZQYOVjXIL_",
        "colab": {
          "base_uri": "https://localhost:8080/"
        },
        "outputId": "25e83819-d5ee-4a63-ea51-a8d98bbe78e5"
      },
      "source": [
        "# [Q5] Code\n",
        "int('0xea',16) # int('16진수',16)은 16진수로 표현되어있는 값을\n",
        "               # 10진수로 변환 해준다."
      ],
      "execution_count": null,
      "outputs": [
        {
          "output_type": "execute_result",
          "data": {
            "text/plain": [
              "234"
            ]
          },
          "metadata": {
            "tags": []
          },
          "execution_count": 9
        }
      ]
    },
    {
      "cell_type": "markdown",
      "metadata": {
        "id": "-3KHtOOoXJBV"
      },
      "source": [
        "## Q6.\n",
        "> map과 lambda를 사용하여 [1, 2, 3, 4] 리스트의 각 요솟값에 3이 곱해진 리스트 [3, 6, 9, 12]를 만들어 보자.\n"
      ]
    },
    {
      "cell_type": "code",
      "metadata": {
        "id": "AjYR0lUaXJBa",
        "colab": {
          "base_uri": "https://localhost:8080/"
        },
        "outputId": "590b43ea-75d1-45c0-e95b-90a674b490a5"
      },
      "source": [
        "# [Q6] Code\n",
        "numbers =  [1, 2, 3, 4]\n",
        "list(map(lambda x:x*3,numbers))\n",
        "# map(함수, 반복가능자료형)의 형식으로 사용하며\n",
        "# 입력받은 자료형의 각 요소를 함수가 수행한 결과를 묶어서 돌려줌"
      ],
      "execution_count": null,
      "outputs": [
        {
          "output_type": "execute_result",
          "data": {
            "text/plain": [
              "[3, 6, 9, 12]"
            ]
          },
          "metadata": {
            "tags": []
          },
          "execution_count": 11
        }
      ]
    },
    {
      "cell_type": "markdown",
      "metadata": {
        "id": "YrS3b88QbmKo"
      },
      "source": [
        "## Q7.\n",
        "> 다음 리스트의 최댓값과 최솟값의 합을 구해 보자.\n",
        ">> [-8, 2, 7, 5, -3, 5, 0, 1]"
      ]
    },
    {
      "cell_type": "code",
      "metadata": {
        "id": "Ll_2InMWbmKq",
        "colab": {
          "base_uri": "https://localhost:8080/"
        },
        "outputId": "3c90c04b-8f5c-4ade-86f6-f46d5f1fdb1c"
      },
      "source": [
        "# [Q7] Code1\n",
        "List = [-8, 2, 7, 5, -3, 5, 0, 1]\n",
        "max(List) + min(List)\n",
        "# max(반복가능자료형)의 형식으로 사용\n",
        "# 받은 자료형의 가장 큰 값을 돌려줌\n",
        "\n",
        "# min(반복가능자료형)의 형식으로 사용\n",
        "# 받은 자료형의 가장 작은 값을 돌려줌"
      ],
      "execution_count": null,
      "outputs": [
        {
          "output_type": "execute_result",
          "data": {
            "text/plain": [
              "-1"
            ]
          },
          "metadata": {
            "tags": []
          },
          "execution_count": 14
        }
      ]
    },
    {
      "cell_type": "code",
      "metadata": {
        "colab": {
          "base_uri": "https://localhost:8080/"
        },
        "id": "aOIZQc5ONh5m",
        "outputId": "77cb8a26-0aa2-4dba-d17e-7bc304e25ade"
      },
      "source": [
        "# [Q7] Code2 N번째로 큰값과 N번쨰로 작은 값을 더해주기\n",
        "List = [-8, 2, 7, 5, -3, 5, 0, 1]\n",
        "count = 0\n",
        "while count < 4:                 # count가 4 이하이면 반복\n",
        "  count += 1                     # while 문이 반복 할 때마다 count+1\n",
        "  print(max(List) + min(List))   # List내의 최대값과 최소값을 더한값을 출력\n",
        "  List.remove(max(List))         # List내의 최대값 제거\n",
        "  List.remove(min(List))         # List내의 최소값 제거"
      ],
      "execution_count": null,
      "outputs": [
        {
          "output_type": "stream",
          "text": [
            "-1\n",
            "2\n",
            "5\n",
            "3\n"
          ],
          "name": "stdout"
        }
      ]
    },
    {
      "cell_type": "markdown",
      "metadata": {
        "id": "OcSDHHYkK6lZ"
      },
      "source": [
        "## Q8.\n",
        "> 17 / 3의 결과는 다음과 같다.\n",
        "```\n",
        "17 / 3\n",
        "5.666666666666667\n",
        "```\n",
        "> 위와 같은 결괏값 5.666666666666667을 소숫점 4자리까지만 반올림하여 표시해 보자."
      ]
    },
    {
      "cell_type": "code",
      "metadata": {
        "id": "GmaaVGqrK6le",
        "colab": {
          "base_uri": "https://localhost:8080/"
        },
        "outputId": "a9df99e3-76ce-4aaa-89e7-38990b9e6719"
      },
      "source": [
        "# [Q8] Code1\n",
        "round(17/3,4)\n",
        "# round(임의의숫자, 소숫점자리])의 형식으로 사용\n",
        "# 숫자를 입력받아 원하는 소숫점에서 반올림 해줌"
      ],
      "execution_count": null,
      "outputs": [
        {
          "output_type": "execute_result",
          "data": {
            "text/plain": [
              "5.6667"
            ]
          },
          "metadata": {
            "tags": []
          },
          "execution_count": 17
        }
      ]
    },
    {
      "cell_type": "code",
      "metadata": {
        "colab": {
          "base_uri": "https://localhost:8080/"
        },
        "id": "C3_PVcTnNtoZ",
        "outputId": "e9851b44-34a9-4654-e1e5-0d72959d2fb5"
      },
      "source": [
        "# [Q8] Code 2 문자열 포메팅\n",
        "num=17/3\n",
        "print(\"%.4f\"%num)"
      ],
      "execution_count": null,
      "outputs": [
        {
          "output_type": "stream",
          "text": [
            "5.6667\n"
          ],
          "name": "stdout"
        }
      ]
    },
    {
      "cell_type": "markdown",
      "metadata": {
        "id": "anwB_DjuK60j"
      },
      "source": [
        "## Q9.\n",
        "> 다음과 같이 실행할 때 입력값을 모두 더하여 출력하는 스크립트\n",
        "\n",
        "> (C:\\doit\\myargv.py)를 작성해 보자.\n",
        "```\n",
        "C:\\> cd doit\n",
        "C:\\doit> python myargv.py 1 2 3 4 5 6 7 8 9 10\n",
        "55\n",
        "```\n",
        ">> ※ 외장 함수 sys.argv를 사용해 보자."
      ]
    },
    {
      "cell_type": "code",
      "metadata": {
        "id": "QJTNoSqtMrIM"
      },
      "source": [
        "# [Q9] Code\n",
        "# myargv.py\n",
        "import sys \n",
        "\n",
        "numbers = sys.argv[1:] # 파일 이름을 제외한 명령 행의 모든 입력\n",
        "\n",
        "result = 0\n",
        "for number in numbers:\n",
        "    result += int(number)  # int형으로 바꾼뒤 값을 합한다.\n",
        "print(result)  # result 값 출력"
      ],
      "execution_count": null,
      "outputs": []
    },
    {
      "cell_type": "code",
      "metadata": {
        "colab": {
          "base_uri": "https://localhost:8080/"
        },
        "id": "Dtpd34h7vWTZ",
        "outputId": "fb1d99fc-2264-494d-8e10-58f8763c9635"
      },
      "source": [
        "run myargv.py 1 2 3 4 5 6 7 8 9 10"
      ],
      "execution_count": null,
      "outputs": [
        {
          "output_type": "stream",
          "text": [
            "55\n"
          ],
          "name": "stdout"
        }
      ]
    },
    {
      "cell_type": "markdown",
      "metadata": {
        "id": "PVA_-b0TK7Ai"
      },
      "source": [
        "## Q10.\n",
        "> os 모듈을 사용하여 다음과 같이 동작하도록 코드를 작성해 보자.\n",
        "\n",
        "1. ./doit 디렉터리로 이동한다.\n",
        "2. dir 명령을 실행하고 그 결과를 변수에 담는다.\n",
        "3. dir 명령의 결과를 출력한다."
      ]
    },
    {
      "cell_type": "code",
      "metadata": {
        "id": "XCnUj3obMr3v",
        "colab": {
          "base_uri": "https://localhost:8080/"
        },
        "outputId": "1d2d52c1-762f-42f3-a5a5-46eed58f4000"
      },
      "source": [
        "# [Q10] Code\n",
        "import os  # os 모듈을 불러오기.\n",
        "\n",
        "os.chdir(\"/content/doit\") \n",
        "\n",
        "result = os.popen(\"dir\")  # os 모듈의 popend를 사용하여 시스템 명령어 dir 수행\n",
        "print(result.read()) # popen의 결과 출력"
      ],
      "execution_count": null,
      "outputs": [
        {
          "output_type": "stream",
          "text": [
            "dir.py\tmyargv.py  pa13\n",
            "\n"
          ],
          "name": "stdout"
        }
      ]
    },
    {
      "cell_type": "markdown",
      "metadata": {
        "id": "8xQf6xJ4K7M_"
      },
      "source": [
        "## Q11.\n",
        "> glob 모듈을 사용하여 ./doit 디렉터리의 파일 중 확장자가 .py인 파일만 출력하는 프로그램을 작성해 보자."
      ]
    },
    {
      "cell_type": "code",
      "metadata": {
        "id": "UCO7aRh5Msx6",
        "colab": {
          "base_uri": "https://localhost:8080/"
        },
        "outputId": "e01028a8-7293-4ccc-e206-88b36e7740bf"
      },
      "source": [
        "# [Q11] Code\n",
        "import glob\n",
        "glob.glob(\"/content/doit/*.py\")"
      ],
      "execution_count": null,
      "outputs": [
        {
          "output_type": "execute_result",
          "data": {
            "text/plain": [
              "['/content/doit/myargv.py', '/content/doit/dir.py']"
            ]
          },
          "metadata": {
            "tags": []
          },
          "execution_count": 72
        }
      ]
    },
    {
      "cell_type": "markdown",
      "metadata": {
        "id": "Q6QYCZ9HM3DW"
      },
      "source": [
        "## Q12.\n",
        "> time 모듈을 사용하여 현재 날짜와 시간을 다음과 같은 형식으로 출력해 보자.\n",
        "\n",
        "- 2018/04/03 17:20:32"
      ]
    },
    {
      "cell_type": "code",
      "metadata": {
        "id": "80vm6aSMM3gf",
        "colab": {
          "base_uri": "https://localhost:8080/",
          "height": 35
        },
        "outputId": "b4da42da-6d4e-453a-a04e-5bb81ba1b0e7"
      },
      "source": [
        "# [Q12] Code1\n",
        "import time  # time 모듈을 불러온다.\n",
        "# strftime를 이용해 년,월,일,시,분,초 하나씩 포맷코드로 출력하는 방법이다. \n",
        "time.strftime(\"%Y/%m/%d %H:%M:%S\")  # %Y:년, %m:월, %d:일, %H:시, %M:분, %S:초"
      ],
      "execution_count": null,
      "outputs": [
        {
          "output_type": "execute_result",
          "data": {
            "application/vnd.google.colaboratory.intrinsic+json": {
              "type": "string"
            },
            "text/plain": [
              "'2021/06/04 04:21:12'"
            ]
          },
          "metadata": {
            "tags": []
          },
          "execution_count": 27
        }
      ]
    },
    {
      "cell_type": "code",
      "metadata": {
        "colab": {
          "base_uri": "https://localhost:8080/",
          "height": 35
        },
        "id": "hu4T0c86QR1X",
        "outputId": "27cace8d-1d7c-4051-a396-63a2f36d54a6"
      },
      "source": [
        "# [Q12] Code2\n",
        "import time  # time 모듈을 불러온다.\n",
        "# strftime를 이용해 날짜와 시간을 한번에 출력해주는 포맷코드로 출력하는 방법이다. \n",
        "time.strftime(\"%x %X\")  # %c:날짜와 시간을 출력함"
      ],
      "execution_count": null,
      "outputs": [
        {
          "output_type": "execute_result",
          "data": {
            "application/vnd.google.colaboratory.intrinsic+json": {
              "type": "string"
            },
            "text/plain": [
              "'06/04/21 04:21:35'"
            ]
          },
          "metadata": {
            "tags": []
          },
          "execution_count": 28
        }
      ]
    },
    {
      "cell_type": "markdown",
      "metadata": {
        "id": "x2IYgozSM3gd"
      },
      "source": [
        "## Q13.\n",
        "> random 모듈을 사용하여 로또 번호(1~45 사이의 숫자 6개)를 생성해 보자(단 중복된 숫자가 있으면 안 됨)."
      ]
    },
    {
      "cell_type": "code",
      "metadata": {
        "id": "FiKNOu9HM3DX",
        "colab": {
          "base_uri": "https://localhost:8080/"
        },
        "outputId": "aa373e96-d598-431e-debf-30dfd51c66c2"
      },
      "source": [
        "# [Q13] Code1\n",
        "import random # random 모듈을 불러온다.\n",
        "\n",
        "result = []   # result에 빈 리스트를 지정해준다.\n",
        "while len(result) < 6:  # 파이썬은 숫자가 0부터 시작하므로, 6에서 멈추도록 조건을 건다.\n",
        "    num = random.randint(1, 45)   # num이라는 변수에 0~9사이의 숫자 중 하나를 랜덤으로 할당해준다.\n",
        "    if num not in result:   # 뽑은 숫자가 result 리스트에 없다면 추가하는 코드를 만든다.\n",
        "        result.append(num)\n",
        "\n",
        "result.sort() # 리스트의 요소를 오름차순으로 정렬한다.\n",
        "print(result) # 1에서 45사이에 숫자 중 무작위로 뽑은 6개의 숫자가 출력된다."
      ],
      "execution_count": null,
      "outputs": [
        {
          "output_type": "stream",
          "text": [
            "[14, 22, 27, 40, 41, 43]\n"
          ],
          "name": "stdout"
        }
      ]
    },
    {
      "cell_type": "code",
      "metadata": {
        "colab": {
          "base_uri": "https://localhost:8080/"
        },
        "id": "-7hcFRLyQZxG",
        "outputId": "0636fc1e-e6be-496a-c0d4-276becf060c6"
      },
      "source": [
        "# [Q13] Code2\n",
        "import random # random 모듈을 불러온다.\n",
        "\n",
        "result = []   # result에 빈 리스트를 지정해준다.\n",
        "num = random.randint(1,45)  # num이라는 변수에 0~9사이의 숫자 중 하나를 랜덤으로 할당해준다.\n",
        "\n",
        "for i in range(6):  # result에 6개의 숫자가 들어가도록 for문으로 6번의 반복을 준다.\n",
        "    while num in result:  # while문은 True일 때 실행되고, 만일 num에서 골라진 임의의 숫자가 이미 result에 있는 숫자라면 다시 한번 뽑는 일을 수행한다. \n",
        "        num = random.randint(1,45)  # result에 없는 숫자가 num에 할당된 상태일 때 while문을 탈출하게 된다.\n",
        "    result.append(num)  # result.append(num)는 result 끝에 해당 숫자를 추가한다.\n",
        "\n",
        "result.sort() # 리스트의 요소를 오름차순으로 정렬한다.\n",
        "print(result) # 1에서 45사이에 숫자 중 무작위로 뽑은 6개의 숫자가 출력된다."
      ],
      "execution_count": null,
      "outputs": [
        {
          "output_type": "stream",
          "text": [
            "[3, 7, 20, 26, 43, 45]\n"
          ],
          "name": "stdout"
        }
      ]
    },
    {
      "cell_type": "code",
      "metadata": {
        "colab": {
          "base_uri": "https://localhost:8080/"
        },
        "id": "CeXxkvUEQd34",
        "outputId": "4d6e4e97-a19b-4538-8261-3e311e1fae34"
      },
      "source": [
        "# [Q13] Code3\n",
        "import random # random 모듈을 불러온다.\n",
        "\n",
        "num = [1, 2, 3, 4, 5, 6, 7, 8, 9, 10, \n",
        "       11, 12, 13, 14, 15, 16, 17, 18, 19, 20, \n",
        "       21, 22, 23, 24, 25, 26, 27, 28, 29, 30, \n",
        "       31, 32, 33, 34, 35, 36, 37, 38, 39, 40, \n",
        "       41, 42, 43, 44, 45]  # 1부터 45까지 리스트를 만든다.\n",
        "result = random.sample(num, 6)  # random.sample을 이용해 6개의 숫자를 무작위로 뽑는다.\n",
        "result.sort() # 리스트의 요소를 오름차순으로 정렬한다.\n",
        "print(result) # 1에서 45사이에 숫자 중 무작위로 뽑은 6개의 숫자가 출력된다."
      ],
      "execution_count": null,
      "outputs": [
        {
          "output_type": "stream",
          "text": [
            "[1, 13, 21, 22, 34, 39]\n"
          ],
          "name": "stdout"
        }
      ]
    },
    {
      "cell_type": "markdown",
      "metadata": {
        "id": "2ljBDShkbqZO"
      },
      "source": [
        "## 코딩 연습 결과를 github에 올리기\n",
        "> 완성된 ipython 노트북 파일을 각자의 github에 올리시오.\n",
        "\n",
        "- github 계정 만들기 (계정이 없는 학생)\n",
        "    1. github에 sign up (Google gmail 계정을 이용해서 만드시오.)\n",
        "- github에 노트 올리기\n",
        "    2. github에 각자의 id로 repo를 만드시오. (한번 만들면 계속 재사용)\n",
        "    3. github repo에 연습결과 노트를 올리시오.\n",
        "        - 제출노트: ch5_exercises_id.ipynb\n"
      ]
    },
    {
      "cell_type": "code",
      "metadata": {
        "id": "OnCR-YNCc8B6"
      },
      "source": [
        ""
      ],
      "execution_count": null,
      "outputs": []
    }
  ]
}