{
  "nbformat": 4,
  "nbformat_minor": 0,
  "metadata": {
    "colab": {
      "name": "ch3_code02-PA13.ipynb",
      "provenance": [],
      "collapsed_sections": []
    },
    "kernelspec": {
      "display_name": "Python 3",
      "language": "python",
      "name": "python3"
    },
    "language_info": {
      "codemirror_mode": {
        "name": "ipython",
        "version": 3
      },
      "file_extension": ".py",
      "mimetype": "text/x-python",
      "name": "python",
      "nbconvert_exporter": "python",
      "pygments_lexer": "ipython3",
      "version": "3.7.5"
    }
  },
  "cells": [
    {
      "cell_type": "markdown",
      "metadata": {
        "id": "H4jNE-BMAK3f"
      },
      "source": [
        "# ch3_code02-PA13.ipynb\n",
        "## PA13  (change to your id)\n",
        "---\n",
        "- 반복문: for\n",
        "    - for ~ in ***:\n",
        "    - range()\n",
        "---\n",
        "\n",
        "- **리스트 내포(List comprehension)**\n",
        "\n",
        "***\n",
        "- **for 문과 iterator**\n",
        "    - for ~ range()\n",
        "    - for ~ enumerate()\n",
        "    - for ~ zip()\n",
        "    "
      ]
    },
    {
      "cell_type": "code",
      "metadata": {
        "id": "R-73g3-Cqz9C",
        "colab": {
          "base_uri": "https://localhost:8080/",
          "height": 88
        },
        "outputId": "f37144c0-bf3c-4505-b8ae-391f096a4b18"
      },
      "source": [
        "# ch3_03_for.py\n",
        "#\n",
        "print(\"for 문은 어떻게 사용?\")\n",
        "# 반복해서 문장을 수행해야 할 경우 for문을 사용한다. \n",
        "\n",
        "############################\n",
        "print(\"for문의 기본 구조\")\n",
        "'''\n",
        "for 변수 in 리스트(또는 튜플, 문자열):\n",
        "    수행할 문장1\n",
        "    수행할 문장2\n",
        "    ...\n",
        "'''"
      ],
      "execution_count": 1,
      "outputs": [
        {
          "output_type": "stream",
          "text": [
            "for 문은 어떻게 사용?\n",
            "for문의 기본 구조\n"
          ],
          "name": "stdout"
        },
        {
          "output_type": "execute_result",
          "data": {
            "application/vnd.google.colaboratory.intrinsic+json": {
              "type": "string"
            },
            "text/plain": [
              "'\\nfor 변수 in 리스트(또는 튜플, 문자열):\\n    수행할 문장1\\n    수행할 문장2\\n    ...\\n'"
            ]
          },
          "metadata": {
            "tags": []
          },
          "execution_count": 1
        }
      ]
    },
    {
      "cell_type": "code",
      "metadata": {
        "colab": {
          "base_uri": "https://localhost:8080/"
        },
        "id": "v71v7AMQZYZX",
        "outputId": "4abff0f2-b3dd-4525-8d57-e90aefb7b13a"
      },
      "source": [
        "#\n",
        "############################\n",
        "print(\"예제를 통해 for문 이해하기\")\n",
        "############################\n",
        "#\n",
        "# 1. 전형적인 for문\n",
        "#\n",
        "test_list = ['one', 'two', 'three'] \n",
        "for i in test_list:\n",
        "    print(i)\n"
      ],
      "execution_count": 2,
      "outputs": [
        {
          "output_type": "stream",
          "text": [
            "예제를 통해 for문 이해하기\n",
            "one\n",
            "two\n",
            "three\n"
          ],
          "name": "stdout"
        }
      ]
    },
    {
      "cell_type": "code",
      "metadata": {
        "colab": {
          "base_uri": "https://localhost:8080/"
        },
        "id": "8SQL_PohZqWw",
        "outputId": "3a2f0952-fa71-4f4e-cee2-664953e5d8eb"
      },
      "source": [
        " my_list = [10,20,30,40,50]\n",
        " for item in my_list:\n",
        "   print(item)\n",
        "   print(item*2)"
      ],
      "execution_count": 5,
      "outputs": [
        {
          "output_type": "stream",
          "text": [
            "10\n",
            "20\n",
            "20\n",
            "40\n",
            "30\n",
            "60\n",
            "40\n",
            "80\n",
            "50\n",
            "100\n"
          ],
          "name": "stdout"
        }
      ]
    },
    {
      "cell_type": "code",
      "metadata": {
        "colab": {
          "base_uri": "https://localhost:8080/"
        },
        "id": "WLiF_XBPZj8X",
        "outputId": "46a8806b-e2da-45a3-db31-56f2c38e3aca"
      },
      "source": [
        "#\n",
        "# 2. 다양한 for문의 사용\n",
        "#\n",
        "a = [(1,2), (3,4), (5,6)]\n",
        "\n",
        "for (first, last) in a:\n",
        "    print(first + last)\n"
      ],
      "execution_count": 6,
      "outputs": [
        {
          "output_type": "stream",
          "text": [
            "3\n",
            "7\n",
            "11\n"
          ],
          "name": "stdout"
        }
      ]
    },
    {
      "cell_type": "code",
      "metadata": {
        "colab": {
          "base_uri": "https://localhost:8080/"
        },
        "id": "tb46xURgZ-lF",
        "outputId": "5bbeae3c-287e-4b3e-b7ba-46a8be71b698"
      },
      "source": [
        "#\n",
        "# 3. for문의 응용\n",
        "#\n",
        "# \"총 5명의 학생이 시험을 보았는데 시험 점수가 60점이 넘으면 \n",
        "# 합격이고 그렇지 않으면 불합격이다. \n",
        "# 합격인지 불합격인지 결과를 보여 주시오.\"\n",
        "#\n",
        "# marks1.py\n",
        "#\n",
        "marks = [90, 25, 67, 45, 80]\n",
        "\n",
        "number = 0 \n",
        "for mark in marks: \n",
        "    number = number +1 \n",
        "    if mark >= 60: \n",
        "        print(\"%d번 학생은 합격입니다.\" % number)\n",
        "    else: \n",
        "        print(\"%d번 학생은 불합격입니다.\" % number)\n",
        "    \n",
        "\n",
        "###################################\n",
        "# cmd에서 실행하시오.\n",
        "# python marks1.py\n",
        "###################################"
      ],
      "execution_count": 7,
      "outputs": [
        {
          "output_type": "stream",
          "text": [
            "1번 학생은 합격입니다.\n",
            "2번 학생은 불합격입니다.\n",
            "3번 학생은 합격입니다.\n",
            "4번 학생은 불합격입니다.\n",
            "5번 학생은 합격입니다.\n"
          ],
          "name": "stdout"
        }
      ]
    },
    {
      "cell_type": "code",
      "metadata": {
        "colab": {
          "base_uri": "https://localhost:8080/"
        },
        "id": "qo0XwSQiaXwk",
        "outputId": "1b0a79eb-24a7-4bfe-f6fd-ba80ac50cea6"
      },
      "source": [
        " run marks1.py"
      ],
      "execution_count": 8,
      "outputs": [
        {
          "output_type": "stream",
          "text": [
            "1번 학생은 합격입니다.\n",
            "2번 학생은 불합격입니다.\n",
            "3번 학생은 합격입니다.\n",
            "4번 학생은 불합격입니다.\n",
            "5번 학생은 합격입니다.\n"
          ],
          "name": "stdout"
        }
      ]
    },
    {
      "cell_type": "code",
      "metadata": {
        "colab": {
          "base_uri": "https://localhost:8080/"
        },
        "id": "M3Bj2h42aFfD",
        "outputId": "04a09c73-0308-438a-9faa-90fb9ee133e3"
      },
      "source": [
        "#\n",
        "###################################\n",
        "print(\"for문과 continue\")\n",
        "###################################\n",
        "# for문 안의 문장을 수행하는 도중에 continue문을 만나면 \n",
        "# for문의 처음으로 돌아가게 된다.\n",
        "#\n",
        "# 앞에서 for문 응용 예제를 그대로 사용해서 60점 이상인 사람에게는 \n",
        "# 축하 메시지를 보내고 나머지 사람에게는 아무 메시지도 전하지 않는 \n",
        "# 프로그램을 작성.\n",
        "#\n",
        "# marks2.py \n",
        "marks = [90, 25, 67, 45, 80]\n",
        "\n",
        "number = 0 \n",
        "for mark in marks: \n",
        "    number = number +1 \n",
        "    if mark < 60:\n",
        "        continue \n",
        "    print(\"%d번 학생 축하합니다. 합격입니다. \" % number)\n",
        "\n",
        "\n",
        "\n",
        "###################################\n",
        "# cmd에서 실행하시오.\n",
        "# python marks2.py\n",
        "###################################\n"
      ],
      "execution_count": 9,
      "outputs": [
        {
          "output_type": "stream",
          "text": [
            "for문과 continue\n",
            "1번 학생 축하합니다. 합격입니다. \n",
            "3번 학생 축하합니다. 합격입니다. \n",
            "5번 학생 축하합니다. 합격입니다. \n"
          ],
          "name": "stdout"
        }
      ]
    },
    {
      "cell_type": "code",
      "metadata": {
        "colab": {
          "base_uri": "https://localhost:8080/"
        },
        "id": "SmbZl6Xvayhx",
        "outputId": "8d29cd08-eb77-48a6-8933-c42d51616762"
      },
      "source": [
        " run marks2.py"
      ],
      "execution_count": 10,
      "outputs": [
        {
          "output_type": "stream",
          "text": [
            "1번 학생 축하합니다. 합격입니다. \n",
            "3번 학생 축하합니다. 합격입니다. \n",
            "5번 학생 축하합니다. 합격입니다. \n"
          ],
          "name": "stdout"
        }
      ]
    },
    {
      "cell_type": "markdown",
      "metadata": {
        "id": "34jjfCMia5gH"
      },
      "source": [
        "### range()\n",
        "- rangge(start, end)\n",
        "- range(start, end, step)\n",
        "- range(end)"
      ]
    },
    {
      "cell_type": "code",
      "metadata": {
        "colab": {
          "base_uri": "https://localhost:8080/"
        },
        "id": "FVyl4zoxbEvw",
        "outputId": "827923a4-6629-41ce-87f0-5e91367fb449"
      },
      "source": [
        " a1 = range(5)   # range(0.5)\n",
        " print(a1)\n",
        " list(a1)"
      ],
      "execution_count": 12,
      "outputs": [
        {
          "output_type": "stream",
          "text": [
            "range(0, 5)\n"
          ],
          "name": "stdout"
        },
        {
          "output_type": "execute_result",
          "data": {
            "text/plain": [
              "[0, 1, 2, 3, 4]"
            ]
          },
          "metadata": {
            "tags": []
          },
          "execution_count": 12
        }
      ]
    },
    {
      "cell_type": "code",
      "metadata": {
        "colab": {
          "base_uri": "https://localhost:8080/"
        },
        "id": "6lHJbzcKbQna",
        "outputId": "d6f6292c-4649-46c2-976e-0d576e60a5b3"
      },
      "source": [
        " a2 = range(0,10,2)\n",
        " list(a2)"
      ],
      "execution_count": 13,
      "outputs": [
        {
          "output_type": "execute_result",
          "data": {
            "text/plain": [
              "[0, 2, 4, 6, 8]"
            ]
          },
          "metadata": {
            "tags": []
          },
          "execution_count": 13
        }
      ]
    },
    {
      "cell_type": "code",
      "metadata": {
        "colab": {
          "base_uri": "https://localhost:8080/"
        },
        "id": "7t2V812qagTN",
        "outputId": "2f59df62-1120-422a-a65f-46edcd9a2f56"
      },
      "source": [
        "#\n",
        "###################################\n",
        "print(\"for문과 함께 자주 사용하는 range 함수\")\n",
        "# range(number)\n",
        "# range(시작 숫자, 끝 숫자)\n",
        "###################################\n",
        "#\n",
        "a = range(10)\n",
        "a\n",
        "list(a)  # la = list(a)\n",
        "\n",
        "a = range(1, 11)\n",
        "a\n",
        "list(a)"
      ],
      "execution_count": 15,
      "outputs": [
        {
          "output_type": "stream",
          "text": [
            "for문과 함께 자주 사용하는 range 함수\n"
          ],
          "name": "stdout"
        },
        {
          "output_type": "execute_result",
          "data": {
            "text/plain": [
              "[1, 2, 3, 4, 5, 6, 7, 8, 9, 10]"
            ]
          },
          "metadata": {
            "tags": []
          },
          "execution_count": 15
        }
      ]
    },
    {
      "cell_type": "code",
      "metadata": {
        "colab": {
          "base_uri": "https://localhost:8080/"
        },
        "id": "rs9SVa7Mba7J",
        "outputId": "51104b60-55b6-49ba-d1ae-d1940f54807d"
      },
      "source": [
        "#\n",
        "# range 함수를 이용한 코드\n",
        "#\n",
        "add = 0 \n",
        "for i in range(1, 11): \n",
        "    add = add + i\n",
        "\n",
        "print(add)"
      ],
      "execution_count": 16,
      "outputs": [
        {
          "output_type": "stream",
          "text": [
            "55\n"
          ],
          "name": "stdout"
        }
      ]
    },
    {
      "cell_type": "code",
      "metadata": {
        "colab": {
          "base_uri": "https://localhost:8080/"
        },
        "id": "lfSwSfmgbsrT",
        "outputId": "31720fc8-d97d-4cec-fd13-915bdaed3447"
      },
      "source": [
        "a=range(10)\n",
        "b=[1,2,3]\n",
        "len(a),len(b)"
      ],
      "execution_count": 19,
      "outputs": [
        {
          "output_type": "execute_result",
          "data": {
            "text/plain": [
              "(10, 3)"
            ]
          },
          "metadata": {
            "tags": []
          },
          "execution_count": 19
        }
      ]
    },
    {
      "cell_type": "code",
      "metadata": {
        "colab": {
          "base_uri": "https://localhost:8080/"
        },
        "id": "0w1w4ERqbnWT",
        "outputId": "e7eef3e5-7a93-4631-aff7-90d923ae46e7"
      },
      "source": [
        "#marks3.py\n",
        "marks = [90, 25, 67, 45, 80]\n",
        "# numbe=0\n",
        "for number in range(len(marks)):\n",
        "    if marks[number] < 60: \n",
        "        continue\n",
        "    print(\"%d번 학생 축하합니다. 합격입니다.\" % (number+1))\n",
        "\n",
        "\n",
        "###################################\n",
        "# cmd에서 실행하시오.\n",
        "# python marks3.py\n",
        "###################################\n"
      ],
      "execution_count": 20,
      "outputs": [
        {
          "output_type": "stream",
          "text": [
            "1번 학생 축하합니다. 합격입니다.\n",
            "3번 학생 축하합니다. 합격입니다.\n",
            "5번 학생 축하합니다. 합격입니다.\n"
          ],
          "name": "stdout"
        }
      ]
    },
    {
      "cell_type": "code",
      "metadata": {
        "colab": {
          "base_uri": "https://localhost:8080/"
        },
        "id": "TjqR_CD4cXwM",
        "outputId": "c15bc21d-7bc7-43d6-9906-3cc4010d9de7"
      },
      "source": [
        " run marks3.py"
      ],
      "execution_count": 21,
      "outputs": [
        {
          "output_type": "stream",
          "text": [
            "1번 학생 축하합니다. 합격입니다.\n",
            "3번 학생 축하합니다. 합격입니다.\n",
            "5번 학생 축하합니다. 합격입니다.\n"
          ],
          "name": "stdout"
        }
      ]
    },
    {
      "cell_type": "code",
      "metadata": {
        "colab": {
          "base_uri": "https://localhost:8080/"
        },
        "id": "pjGLN_s0cAOl",
        "outputId": "08e27f2e-0998-4341-9ce4-0420ec45f665"
      },
      "source": [
        "#\n",
        "###################################\n",
        "print(\"for와 range를 이용한 구구단\")\n",
        "# for와 range 함수를 사용하면 \n",
        "# 소스 코드 단 4줄만으로 구구단을 출력\n",
        "###################################\n",
        "#\n",
        "# 중첩 for 문\n",
        "for i in range(2,10):         # ①번 for문 (i-loop)\n",
        "     for j in range(1, 10):   # ②번 for문 (j-loop)\n",
        "         print(i*j, end=\" \") \n",
        "     print('')   # 줄 바꿈\n"
      ],
      "execution_count": 22,
      "outputs": [
        {
          "output_type": "stream",
          "text": [
            "for와 range를 이용한 구구단\n",
            "2 4 6 8 10 12 14 16 18 \n",
            "3 6 9 12 15 18 21 24 27 \n",
            "4 8 12 16 20 24 28 32 36 \n",
            "5 10 15 20 25 30 35 40 45 \n",
            "6 12 18 24 30 36 42 48 54 \n",
            "7 14 21 28 35 42 49 56 63 \n",
            "8 16 24 32 40 48 56 64 72 \n",
            "9 18 27 36 45 54 63 72 81 \n"
          ],
          "name": "stdout"
        }
      ]
    },
    {
      "cell_type": "code",
      "metadata": {
        "colab": {
          "base_uri": "https://localhost:8080/"
        },
        "id": "NgQ3S9Pdcefy",
        "outputId": "ef809f7b-e3e5-45a6-b3fb-8c01c09782b6"
      },
      "source": [
        "# 아래와 같이 출력하도록 코들르 변경해보시오.\n",
        "#############################################################\n",
        "# 2 X 1 = 2 2 X 2 = 4 2 X 3 = 6 2 X 4 = 8 2 X 5 = 10 2 X 6 = 12 2 X 7 = 14 2 X 8 = 16 2 X 9 = 18\n",
        "# 3 X 1 = 3 3 X 2 = 6 3 X 3 = 9 3 X 4 = 12 3 X 5 = 15 3 X 6 = 18 3 X 7 = 21 3 X 8 = 24 3 X 9 = 27\n",
        "# 4 X 1 = 4 4 X 2 = 8 4 X 3 = 12 4 X 4 = 16 4 X 5 = 20 4 X 6 = 24 4 X 7 = 28 4 X 8 = 32 4 X 9 = 36\n",
        "# 5 X 1 = 5 5 X 2 = 10 5 X 3 = 15 5 X 4 = 20 5 X 5 = 25 5 X 6 = 30 5 X 7 = 35 5 X 8 = 40 5 X 9 = 45\n",
        "# 6 X 1 = 6 6 X 2 = 12 6 X 3 = 18 6 X 4 = 24 6 X 5 = 30 6 X 6 = 36 6 X 7 = 42 6 X 8 = 48 6 X 9 = 54\n",
        "# 7 X 1 = 7 7 X 2 = 14 7 X 3 = 21 7 X 4 = 28 7 X 5 = 35 7 X 6 = 42 7 X 7 = 49 7 X 8 = 56 7 X 9 = 63\n",
        "# 8 X 1 = 8 8 X 2 = 16 8 X 3 = 24 8 X 4 = 32 8 X 5 = 40 8 X 6 = 48 8 X 7 = 56 8 X 8 = 64 8 X 9 = 72\n",
        "# 9 X 1 = 9 9 X 2 = 18 9 X 3 = 27 9 X 4 = 36 9 X 5 = 45 9 X 6 = 54 9 X 7 = 63 9 X 8 = 72 9 X 9 = 81\n",
        "#############################################################\n",
        "# \n",
        "for i in range(2,10):        # ①번 for문\n",
        "     for j in range(1, 10):   # ②번 for문\n",
        "         print(i, \"X\", j, \"=\", i*j, end=\"  \") \n",
        "     print('') \n"
      ],
      "execution_count": 23,
      "outputs": [
        {
          "output_type": "stream",
          "text": [
            "2 X 1 = 2  2 X 2 = 4  2 X 3 = 6  2 X 4 = 8  2 X 5 = 10  2 X 6 = 12  2 X 7 = 14  2 X 8 = 16  2 X 9 = 18  \n",
            "3 X 1 = 3  3 X 2 = 6  3 X 3 = 9  3 X 4 = 12  3 X 5 = 15  3 X 6 = 18  3 X 7 = 21  3 X 8 = 24  3 X 9 = 27  \n",
            "4 X 1 = 4  4 X 2 = 8  4 X 3 = 12  4 X 4 = 16  4 X 5 = 20  4 X 6 = 24  4 X 7 = 28  4 X 8 = 32  4 X 9 = 36  \n",
            "5 X 1 = 5  5 X 2 = 10  5 X 3 = 15  5 X 4 = 20  5 X 5 = 25  5 X 6 = 30  5 X 7 = 35  5 X 8 = 40  5 X 9 = 45  \n",
            "6 X 1 = 6  6 X 2 = 12  6 X 3 = 18  6 X 4 = 24  6 X 5 = 30  6 X 6 = 36  6 X 7 = 42  6 X 8 = 48  6 X 9 = 54  \n",
            "7 X 1 = 7  7 X 2 = 14  7 X 3 = 21  7 X 4 = 28  7 X 5 = 35  7 X 6 = 42  7 X 7 = 49  7 X 8 = 56  7 X 9 = 63  \n",
            "8 X 1 = 8  8 X 2 = 16  8 X 3 = 24  8 X 4 = 32  8 X 5 = 40  8 X 6 = 48  8 X 7 = 56  8 X 8 = 64  8 X 9 = 72  \n",
            "9 X 1 = 9  9 X 2 = 18  9 X 3 = 27  9 X 4 = 36  9 X 5 = 45  9 X 6 = 54  9 X 7 = 63  9 X 8 = 72  9 X 9 = 81  \n"
          ],
          "name": "stdout"
        }
      ]
    },
    {
      "cell_type": "markdown",
      "metadata": {
        "id": "VWy3bJCpcsOi"
      },
      "source": [
        "### 리스트 내포"
      ]
    },
    {
      "cell_type": "code",
      "metadata": {
        "colab": {
          "base_uri": "https://localhost:8080/"
        },
        "id": "MY1Nwk3ZcoZG",
        "outputId": "6b55b67c-344a-4637-cf21-55e8bc73d513"
      },
      "source": [
        "#\n",
        "#######################################\n",
        "print(\"리스트 내포(List comprehension)\")\n",
        "#######################################\n",
        "#\n",
        "\n",
        "a = [1,2,3,4]\n",
        "result = []  # 리스트 초기화\n",
        "for num in a:\n",
        "    result.append(num*3)\n",
        "\n",
        "print(result)"
      ],
      "execution_count": 24,
      "outputs": [
        {
          "output_type": "stream",
          "text": [
            "리스트 내포(List comprehension)\n",
            "[3, 6, 9, 12]\n"
          ],
          "name": "stdout"
        }
      ]
    },
    {
      "cell_type": "code",
      "metadata": {
        "colab": {
          "base_uri": "https://localhost:8080/"
        },
        "id": "NTQpC0G-dFIY",
        "outputId": "21a26138-0adb-4acc-97d7-c41a182da7f8"
      },
      "source": [
        " result"
      ],
      "execution_count": 26,
      "outputs": [
        {
          "output_type": "execute_result",
          "data": {
            "text/plain": [
              "[3, 6, 9, 12]"
            ]
          },
          "metadata": {
            "tags": []
          },
          "execution_count": 26
        }
      ]
    },
    {
      "cell_type": "code",
      "metadata": {
        "colab": {
          "base_uri": "https://localhost:8080/"
        },
        "id": "XBRhpiM4c9Sj",
        "outputId": "d135d893-c4f8-480a-b804-ffaf15386d45"
      },
      "source": [
        "# 리쓰트 내포\n",
        "a = [1,2,3,4]\n",
        "result = [num*3 for num in a]\n",
        "print(result)"
      ],
      "execution_count": 27,
      "outputs": [
        {
          "output_type": "stream",
          "text": [
            "[3, 6, 9, 12]\n"
          ],
          "name": "stdout"
        }
      ]
    },
    {
      "cell_type": "code",
      "metadata": {
        "colab": {
          "base_uri": "https://localhost:8080/"
        },
        "id": "CbV0dbpUdKru",
        "outputId": "1eec0dfc-e11f-4a3f-a51a-f4609d898dfc"
      },
      "source": [
        "#\n",
        "#############################################\n",
        "print(\"리스트 내포의 일반 문법\")\n",
        "#\n",
        "# [표현식 for 항목 in 반복가능객체 if 조건문]\n",
        "# -----------------------------------------\n",
        "#\n",
        "# 일반화\n",
        "# [표현식 for 항목1 in 반복가능객체1 if 조건문1\n",
        "#         for 항목2 in 반복가능객체2 if 조건문2\n",
        "#         ...\n",
        "#         for 항목n in 반복가능객체n if 조건문n]\n",
        "##############################################\n",
        "#\n",
        "# 예1. 구구단의 모든 결과를 리스트에 담는 코드\n",
        "#\n",
        "result = [x*y for x in range(2,10) for y in range(1,10)]\n"
      ],
      "execution_count": 28,
      "outputs": [
        {
          "output_type": "stream",
          "text": [
            "리스트 내포의 일반 문법\n"
          ],
          "name": "stdout"
        }
      ]
    },
    {
      "cell_type": "code",
      "metadata": {
        "colab": {
          "base_uri": "https://localhost:8080/"
        },
        "id": "PkjUhn05dVrD",
        "outputId": "bd7ece8c-0377-4511-f366-abd490a5f68a"
      },
      "source": [
        " print(result)"
      ],
      "execution_count": 30,
      "outputs": [
        {
          "output_type": "stream",
          "text": [
            "[2, 4, 6, 8, 10, 12, 14, 16, 18, 3, 6, 9, 12, 15, 18, 21, 24, 27, 4, 8, 12, 16, 20, 24, 28, 32, 36, 5, 10, 15, 20, 25, 30, 35, 40, 45, 6, 12, 18, 24, 30, 36, 42, 48, 54, 7, 14, 21, 28, 35, 42, 49, 56, 63, 8, 16, 24, 32, 40, 48, 56, 64, 72, 9, 18, 27, 36, 45, 54, 63, 72, 81]\n"
          ],
          "name": "stdout"
        }
      ]
    },
    {
      "cell_type": "code",
      "metadata": {
        "colab": {
          "base_uri": "https://localhost:8080/"
        },
        "id": "MRYWrgMTeD9q",
        "outputId": "4868b041-c095-4b9e-9d28-2f953d2c9eb0"
      },
      "source": [
        " len(result)"
      ],
      "execution_count": 31,
      "outputs": [
        {
          "output_type": "execute_result",
          "data": {
            "text/plain": [
              "72"
            ]
          },
          "metadata": {
            "tags": []
          },
          "execution_count": 31
        }
      ]
    },
    {
      "cell_type": "code",
      "metadata": {
        "colab": {
          "base_uri": "https://localhost:8080/"
        },
        "id": "emVWOkAwdSxQ",
        "outputId": "19d39ba9-33e2-4530-b5f2-d395e068c648"
      },
      "source": [
        "#\n",
        "# 예2. 9 이하의 정수 중 짝수는 2배로, 홀수는 그대로 리스트에 담는 코드\n",
        "#\n",
        "x = [1, 2, 3, 4, 5, 6, 7, 8, 9]  # -> [1, 4, 3, 8, 5, 12, 7, 16, 9]\n",
        "result = []\n",
        "for idx in range(len(x)):\n",
        "    if x[idx] % 2 == 0:\n",
        "        result.append(x[idx] * 2)\n",
        "    else:\n",
        "        result.append(x[idx])\n",
        "result\n",
        "#\n",
        "# 짝수만 추출하여 2배로 만든 리스트 구성\n",
        "[element * 2 for element in x if element % 2 == 0]\n",
        "# 그러면 짝수는 2배로, 홀수는 그대로 리스트에 담는 코드는?\n",
        "[(element * 2 if element % 2 == 0 else element) for element in x]"
      ],
      "execution_count": 32,
      "outputs": [
        {
          "output_type": "execute_result",
          "data": {
            "text/plain": [
              "[1, 4, 3, 8, 5, 12, 7, 16, 9]"
            ]
          },
          "metadata": {
            "tags": []
          },
          "execution_count": 32
        }
      ]
    },
    {
      "cell_type": "code",
      "metadata": {
        "colab": {
          "base_uri": "https://localhost:8080/"
        },
        "id": "w3ZY19VgeYlt",
        "outputId": "32e11a2d-4b0b-42db-9980-91453f8899d6"
      },
      "source": [
        " x=[1,2,3,4]\n",
        " [(element * 2 if element % 2 == 0 else element) for element in x]"
      ],
      "execution_count": 33,
      "outputs": [
        {
          "output_type": "execute_result",
          "data": {
            "text/plain": [
              "[1, 4, 3, 8]"
            ]
          },
          "metadata": {
            "tags": []
          },
          "execution_count": 33
        }
      ]
    },
    {
      "cell_type": "markdown",
      "metadata": {
        "id": "2Jz1uWR8e2sB"
      },
      "source": [
        "## for 문과 itrator\n",
        "- range()\n",
        "- enumerate()\n",
        "- zip()"
      ]
    },
    {
      "cell_type": "code",
      "metadata": {
        "id": "YkW8fS6Pqz9E",
        "colab": {
          "base_uri": "https://localhost:8080/"
        },
        "outputId": "d63dbc3e-f7df-47e4-ce93-29459eec93c4"
      },
      "source": [
        " # ch3_04_for_iterates.py\n",
        " #\n",
        " ############################\n",
        " print(\"for 문과 itrator\")\n",
        " ############################\n",
        " subjects = ['python', 'english', 'math', 'science']\n",
        " scores = [88, 77, 66, 95]\n",
        " #\n",
        " print(\"과목명 출력\")\n",
        " for subject in subjects:\n",
        "    print(subject)\n",
        "\n",
        "\n",
        " #\n",
        " print(\"과목 점수 출력\")\n",
        " for score in scores:\n",
        "    print(score)\n",
        "\n",
        " for index in range(len(subjects)):\n",
        "    print(subjects[index],scores[index])"
      ],
      "execution_count": 41,
      "outputs": [
        {
          "output_type": "stream",
          "text": [
            "for 문과 itrator\n",
            "과목명 출력\n",
            "python\n",
            "english\n",
            "math\n",
            "science\n",
            "과목 점수 출력\n",
            "88\n",
            "77\n",
            "66\n",
            "95\n",
            "python 88\n",
            "english 77\n",
            "math 66\n",
            "science 95\n"
          ],
          "name": "stdout"
        }
      ]
    },
    {
      "cell_type": "code",
      "metadata": {
        "colab": {
          "base_uri": "https://localhost:8080/"
        },
        "id": "4mijBOFgfGg2",
        "outputId": "1bef8028-e534-478a-8970-9d5695acdf08"
      },
      "source": [
        "#\n",
        "print(\"enumerate()를 이용한 출력\")\n",
        "for position, subject in enumerate(subjects):\n",
        "    print(position,subject)"
      ],
      "execution_count": 42,
      "outputs": [
        {
          "output_type": "stream",
          "text": [
            "enumerate()를 이용한 출력\n",
            "0 python\n",
            "1 english\n",
            "2 math\n",
            "3 science\n"
          ],
          "name": "stdout"
        }
      ]
    },
    {
      "cell_type": "code",
      "metadata": {
        "colab": {
          "base_uri": "https://localhost:8080/"
        },
        "id": "P7FSJtQfgojC",
        "outputId": "52ca4a92-f9b7-4198-e676-76dcb317e477"
      },
      "source": [
        "#\n",
        "for position, subject in enumerate(subjects):\n",
        "    print(subjects[position])\n"
      ],
      "execution_count": 43,
      "outputs": [
        {
          "output_type": "stream",
          "text": [
            "python\n",
            "english\n",
            "math\n",
            "science\n"
          ],
          "name": "stdout"
        }
      ]
    },
    {
      "cell_type": "code",
      "metadata": {
        "colab": {
          "base_uri": "https://localhost:8080/"
        },
        "id": "nH8epIwlgsiS",
        "outputId": "1a29d498-1ef6-4958-a071-8aae2ccafe98"
      },
      "source": [
        "# 도전 [DIY]\n",
        "\n",
        "print(\"enumerate()를 이용하여 점수를 출력해보시오.\")\n",
        "#\n",
        "#\n",
        "for position, score in enumerate(scores):\n",
        "  print(scores[position])\n"
      ],
      "execution_count": 44,
      "outputs": [
        {
          "output_type": "stream",
          "text": [
            "enumerate()를 이용하여 점수를 출력해보시오.\n",
            "88\n",
            "77\n",
            "66\n",
            "95\n"
          ],
          "name": "stdout"
        }
      ]
    },
    {
      "cell_type": "code",
      "metadata": {
        "colab": {
          "base_uri": "https://localhost:8080/"
        },
        "id": "Ntw74n5Tg3Jr",
        "outputId": "6f171135-96f3-42e2-9d7a-c3fae4146300"
      },
      "source": [
        "#\n",
        "############################\n",
        "print(\"for 문과 itrator의 응용: 복합 문자열 리스트\")\n",
        "############################\n",
        "subjects = ['python', 'english', 'math', 'science']\n",
        "scores = [88, 77, 66, 95]\n",
        "# Method-1\n",
        "for position in range(len(subjects)):\n",
        "    subject = subjects[position]\n",
        "    score = scores[position]\n",
        "    print(subject, score)\n"
      ],
      "execution_count": 45,
      "outputs": [
        {
          "output_type": "stream",
          "text": [
            "for 문과 itrator의 응용: 복합 문자열 리스트\n",
            "python 88\n",
            "english 77\n",
            "math 66\n",
            "science 95\n"
          ],
          "name": "stdout"
        }
      ]
    },
    {
      "cell_type": "code",
      "metadata": {
        "colab": {
          "base_uri": "https://localhost:8080/"
        },
        "id": "ZIFNwN6qhEeF",
        "outputId": "3b8132cb-396d-4e31-d28b-cb63fc5b5b49"
      },
      "source": [
        "# Method-2\n",
        "for position, subject in enumerate(subjects):\n",
        "    score = scores[position]\n",
        "    print(subject, score)\n"
      ],
      "execution_count": 46,
      "outputs": [
        {
          "output_type": "stream",
          "text": [
            "python 88\n",
            "english 77\n",
            "math 66\n",
            "science 95\n"
          ],
          "name": "stdout"
        }
      ]
    },
    {
      "cell_type": "markdown",
      "metadata": {
        "id": "ekZR--YChRNt"
      },
      "source": [
        "### zip()"
      ]
    },
    {
      "cell_type": "code",
      "metadata": {
        "colab": {
          "base_uri": "https://localhost:8080/"
        },
        "id": "pTNShv7YhVhc",
        "outputId": "b81e9f40-cb7c-4117-d719-e5b726e6c70f"
      },
      "source": [
        "zip(subjects, scores)\n",
        "list(zip(subjects, scores))"
      ],
      "execution_count": 51,
      "outputs": [
        {
          "output_type": "execute_result",
          "data": {
            "text/plain": [
              "[('python', 88), ('english', 77), ('math', 66), ('science', 95)]"
            ]
          },
          "metadata": {
            "tags": []
          },
          "execution_count": 51
        }
      ]
    },
    {
      "cell_type": "code",
      "metadata": {
        "colab": {
          "base_uri": "https://localhost:8080/"
        },
        "id": "IGncZGRGhJEs",
        "outputId": "e64d0990-9892-4e17-df2b-ca1b88111bc8"
      },
      "source": [
        "# Method-3\n",
        "for subject, score in zip(subjects, scores):\n",
        "    print(subject, score)\n"
      ],
      "execution_count": 47,
      "outputs": [
        {
          "output_type": "stream",
          "text": [
            "python 88\n",
            "english 77\n",
            "math 66\n",
            "science 95\n"
          ],
          "name": "stdout"
        }
      ]
    },
    {
      "cell_type": "code",
      "metadata": {
        "colab": {
          "base_uri": "https://localhost:8080/"
        },
        "id": "ea1P6tB7hLyI",
        "outputId": "dd5b296c-dcb8-40b6-854c-9a23cad6af94"
      },
      "source": [
        "# 응용 코드 : 평균 성적을 구하시오.\n",
        "subjects = ['python', 'english', 'math', 'science']\n",
        "scores = [88, 77, 66, 95]\n",
        "\n",
        "average = 0\n",
        "total = 0\n",
        "for subject, score in zip(subjects, scores):\n",
        "    total += score\n",
        "    print(subject, score)\n",
        "\n",
        "print(\"평균 점수 = {0}\".format(total/len(subjects)))\n",
        "\n",
        "# So Cool!\n"
      ],
      "execution_count": 52,
      "outputs": [
        {
          "output_type": "stream",
          "text": [
            "python 88\n",
            "english 77\n",
            "math 66\n",
            "science 95\n",
            "평균 점수 = 81.5\n"
          ],
          "name": "stdout"
        }
      ]
    },
    {
      "cell_type": "code",
      "metadata": {
        "id": "wjs1e7zxqz9G"
      },
      "source": [
        ""
      ],
      "execution_count": null,
      "outputs": []
    }
  ]
}